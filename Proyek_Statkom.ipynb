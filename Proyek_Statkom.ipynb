{
  "nbformat": 4,
  "nbformat_minor": 0,
  "metadata": {
    "colab": {
      "provenance": [],
      "include_colab_link": true
    },
    "kernelspec": {
      "name": "python3",
      "display_name": "Python 3"
    },
    "language_info": {
      "name": "python"
    }
  },
  "cells": [
    {
      "cell_type": "markdown",
      "metadata": {
        "id": "view-in-github",
        "colab_type": "text"
      },
      "source": [
        "<a href=\"https://colab.research.google.com/github/mayfana/Computational_Statistic_FinalTask/blob/main/Proyek_Statkom.ipynb\" target=\"_parent\"><img src=\"https://colab.research.google.com/assets/colab-badge.svg\" alt=\"Open In Colab\"/></a>"
      ]
    },
    {
      "cell_type": "markdown",
      "source": [
        "Group member\n",
        "1. Eka Evita Anggraini 04\n",
        "2. Faricha Aulia 08\n",
        "3. Mayfana Laura Abdi 14"
      ],
      "metadata": {
        "id": "eoQ9p39DjKKf"
      }
    },
    {
      "cell_type": "markdown",
      "source": [
        "***Objective***\n",
        "> To create specific treatment strategies to manage Parkinson's disease and its associated symptoms properly\n",
        "\n",
        "\n"
      ],
      "metadata": {
        "id": "mIPCTV37SLYM"
      }
    },
    {
      "cell_type": "code",
      "source": [
        "import pandas as pd\n",
        "cd = pd.read_excel('combined_data.xlsx')\n",
        "print(cd.head())"
      ],
      "metadata": {
        "colab": {
          "base_uri": "https://localhost:8080/"
        },
        "id": "iCCInn7OQkFb",
        "outputId": "41b8de7c-d40e-46d9-adfc-ec38f51db378"
      },
      "execution_count": null,
      "outputs": [
        {
          "output_type": "stream",
          "name": "stdout",
          "text": [
            "            timestamp  heart_rate  steps  stress_score  awake  deep  light  \\\n",
            "0 2021-11-25 00:00:00         NaN      0          -1.0    NaN   NaN    NaN   \n",
            "1 2021-11-25 00:15:00         NaN      0          -1.0    NaN   NaN    NaN   \n",
            "2 2021-11-25 00:30:00   43.419355      0          -0.4    NaN   NaN    NaN   \n",
            "3 2021-11-25 00:45:00   60.250000      0          12.4    NaN   NaN    NaN   \n",
            "4 2021-11-25 01:00:00   10.600000      0          -1.0    NaN   NaN    NaN   \n",
            "\n",
            "   rem  nonrem_total  total  nonrem_percentage  sleep_efficiency  \\\n",
            "0  NaN           NaN    NaN                NaN               NaN   \n",
            "1  NaN           NaN    NaN                NaN               NaN   \n",
            "2  NaN           NaN    NaN                NaN               NaN   \n",
            "3  NaN           NaN    NaN                NaN               NaN   \n",
            "4  NaN           NaN    NaN                NaN               NaN   \n",
            "\n",
            "   time_from_last_drug_taken  wo_duration  timestamp_hour  \\\n",
            "0                        0.0          NaN               0   \n",
            "1                        0.0          NaN               0   \n",
            "2                        0.0          NaN               0   \n",
            "3                        0.0          NaN               0   \n",
            "4                        0.0          NaN               1   \n",
            "\n",
            "   timestamp_dayofweek  timestamp_hour_sin  timestamp_hour_cos  wearing_off  \\\n",
            "0                    3       -7.627160e-12            1.000000            0   \n",
            "1                    3        6.540313e-02            0.997859            0   \n",
            "2                    3        1.305262e-01            0.991445            0   \n",
            "3                    3        1.950903e-01            0.980785            0   \n",
            "4                    3        2.588190e-01            0.965926            0   \n",
            "\n",
            "    participant  \n",
            "0  participant1  \n",
            "1  participant1  \n",
            "2  participant1  \n",
            "3  participant1  \n",
            "4  participant1  \n"
          ]
        }
      ]
    },
    {
      "cell_type": "code",
      "source": [
        "import pandas as pd\n",
        "pi = pd.read_excel('participant_information.xlsx')\n",
        "print(pi.head())"
      ],
      "metadata": {
        "colab": {
          "base_uri": "https://localhost:8080/"
        },
        "id": "5dJ72-VSX0v-",
        "outputId": "1da2bb2b-634d-482a-87f8-3d72be009819"
      },
      "execution_count": null,
      "outputs": [
        {
          "output_type": "stream",
          "name": "stdout",
          "text": [
            "    participant  age     sex  hoehn_yahr  jcld  pdq8-mobility  pdq8-ADLs  \\\n",
            "0  participant1   43  female           2     1              2          2   \n",
            "1  participant2   38  female           3     2              3          3   \n",
            "2  participant3   49  female           3     2              2          2   \n",
            "3  participant4   69  female           3     1              3          4   \n",
            "4  participant5   49  female           2     2              2          2   \n",
            "\n",
            "   pdq-8-emotional well being  pdq8-stigma  pdq8-social support  \\\n",
            "0                           1            1                    2   \n",
            "1                           2            3                    3   \n",
            "2                           2            1                    1   \n",
            "3                           3            3                    3   \n",
            "4                           3            1                    1   \n",
            "\n",
            "   pdq8-cognitions  pdq8-communication  pdq8-bodily discomfort     pdq8  \\\n",
            "0                1                   3                       2  0.43750   \n",
            "1                2                   0                       3  0.59375   \n",
            "2                2                   0                       1  0.34375   \n",
            "3                3                   3                       3  0.78125   \n",
            "4                3                   2                       1  0.46875   \n",
            "\n",
            "       pdq8-timestamp  \n",
            "0 2021-11-25 07:00:00  \n",
            "1 2021-11-24 08:32:32  \n",
            "2 2021-11-15 14:09:08  \n",
            "3 2021-11-16 13:47:05  \n",
            "4 2021-11-21 16:25:00  \n"
          ]
        }
      ]
    },
    {
      "cell_type": "code",
      "source": [
        "import pandas as pd\n",
        "diws = pd.read_excel('drug_intake_with_symptoms.xlsx')\n",
        "print(diws.head())"
      ],
      "metadata": {
        "colab": {
          "base_uri": "https://localhost:8080/"
        },
        "id": "3EOmhEOAYFo3",
        "outputId": "e00f7a11-184d-4787-81d8-be4fd65d04c3"
      },
      "execution_count": null,
      "outputs": [
        {
          "output_type": "stream",
          "name": "stdout",
          "text": [
            "   Unnamed: 0  drug_intake_id          started_at         finished_at  pain  \\\n",
            "0           0            1021 2021-11-25 08:09:00 2021-11-25 08:09:00     0   \n",
            "1           1            1023 2021-11-25 09:54:00 2021-11-25 09:54:00     0   \n",
            "2           2            1024 2021-11-25 11:00:00 2021-11-25 11:00:00     0   \n",
            "3           3            1025 2021-11-25 13:49:00 2021-11-25 13:49:00     0   \n",
            "4           4            1030 2021-11-25 15:30:00 2021-11-25 15:30:00     0   \n",
            "\n",
            "   tremors  anxiety  rigidity  slowdown  slow_thoughts  impairment_hands  \\\n",
            "0        0        0         0         0              0                 0   \n",
            "1        0        0         0         0              0                 0   \n",
            "2        0        0         0         0              0                 0   \n",
            "3        0        0         0         0              0                 0   \n",
            "4        0        0         0         0              0                 0   \n",
            "\n",
            "   moodchange  muscle_spasm   participant  \n",
            "0           0             0  participant1  \n",
            "1           0             0  participant1  \n",
            "2           0             0  participant1  \n",
            "3           0             0  participant1  \n",
            "4           0             0  participant1  \n"
          ]
        }
      ]
    },
    {
      "cell_type": "code",
      "source": [
        "import pandas as pd\n",
        "gm = pd.read_excel('garmin.xlsx')\n",
        "print(gm.head())"
      ],
      "metadata": {
        "colab": {
          "base_uri": "https://localhost:8080/"
        },
        "id": "ogg6y3YQYSEy",
        "outputId": "f4ff4beb-16af-440f-9e7e-c85262ee2110"
      },
      "execution_count": null,
      "outputs": [
        {
          "output_type": "stream",
          "name": "stdout",
          "text": [
            "   Unnamed: 0           Timestamp  heart_rate   participant\n",
            "0           0 2021-11-25 00:37:15          62  participant1\n",
            "1           1 2021-11-25 00:37:30          62  participant1\n",
            "2           2 2021-11-25 00:37:45          62  participant1\n",
            "3           3 2021-11-25 00:38:00          62  participant1\n",
            "4           4 2021-11-25 00:41:15          74  participant1\n"
          ]
        }
      ]
    },
    {
      "cell_type": "code",
      "source": [
        "import pandas as pd\n",
        "wop = pd.read_excel('wearing_off_periods.xlsx')\n",
        "print(wop.head())"
      ],
      "metadata": {
        "colab": {
          "base_uri": "https://localhost:8080/"
        },
        "id": "FcAafn4uYYGs",
        "outputId": "b7e77649-7a28-479f-d7b7-96414cee0f9f"
      },
      "execution_count": null,
      "outputs": [
        {
          "output_type": "stream",
          "name": "stdout",
          "text": [
            "   Unnamed: 0  wearing_off_id          started_at         finished_at  pain  \\\n",
            "0           0            1018 2021-11-25 08:00:00 2021-11-25 08:55:00     1   \n",
            "1           1            1022 2021-11-25 10:30:00 2021-11-25 11:15:00     0   \n",
            "2           2            1029 2021-11-25 17:15:00 2021-11-25 18:10:00     0   \n",
            "3           3            1033 2021-11-25 23:05:00 2021-11-26 01:22:00     0   \n",
            "4           4            1043 2021-11-26 07:10:00 2021-11-26 08:00:00     0   \n",
            "\n",
            "   tremors  anxiety  rigidity  slowdown  slow_thoughts  impairment_hands  \\\n",
            "0        1        0         1         1              0                 1   \n",
            "1        1        0         1         1              0                 1   \n",
            "2        1        0         1         1              0                 1   \n",
            "3        1        0         1         1              0                 1   \n",
            "4        0        0         1         0              0                 1   \n",
            "\n",
            "   moodchange  muscle_spasm   participant  \n",
            "0           0             1  participant1  \n",
            "1           0             0  participant1  \n",
            "2           0             0  participant1  \n",
            "3           0             0  participant1  \n",
            "4           0             0  participant1  \n"
          ]
        }
      ]
    },
    {
      "cell_type": "code",
      "source": [
        "import pandas as pd\n",
        "\n",
        "combined_data = pd.read_excel('combined_data.xlsx')\n",
        "participant_info = pd.read_excel('participant_information.xlsx')\n",
        "drug_intake = pd.read_excel('drug_intake_with_symptoms.xlsx')\n",
        "wearing_off_periods = pd.read_excel('wearing_off_periods.xlsx')\n",
        "\n",
        "merged_data = pd.merge(combined_data, participant_info, on='participant')\n",
        "merged_data = pd.merge(merged_data, drug_intake, on='participant')\n",
        "merged_data = pd.merge(merged_data, wearing_off_periods, on='participant')\n",
        "\n",
        "\n",
        "\n"
      ],
      "metadata": {
        "id": "87rI1O6wZK5_"
      },
      "execution_count": null,
      "outputs": []
    },
    {
      "cell_type": "code",
      "source": [
        "from sklearn.model_selection import train_test_split\n",
        "\n",
        "features = ['drug_intake_with_symptoms.xlsx'(['pain', 'tremors', 'anxiety', 'rigidity'])]\n",
        "\n",
        "X = merged_data[features]\n",
        "y = merged_data['Wearing_Off']\n",
        "\n",
        "X_train, X_test, y_train, y_test = train_test_split(X, y, test_size=0.2, random_state=42)"
      ],
      "metadata": {
        "colab": {
          "base_uri": "https://localhost:8080/",
          "height": 325
        },
        "id": "LF9ehndaE9jd",
        "outputId": "8ef3abe2-ecbf-42d4-92a3-457f047d9647"
      },
      "execution_count": null,
      "outputs": [
        {
          "output_type": "stream",
          "name": "stderr",
          "text": [
            "<>:3: SyntaxWarning: 'str' object is not callable; perhaps you missed a comma?\n",
            "<>:3: SyntaxWarning: 'str' object is not callable; perhaps you missed a comma?\n",
            "<ipython-input-11-a27d718a63e5>:3: SyntaxWarning: 'str' object is not callable; perhaps you missed a comma?\n",
            "  features = ['drug_intake_with_symptoms.xlsx'(['pain', 'tremors', 'anxiety', 'rigidity'])]\n"
          ]
        },
        {
          "output_type": "error",
          "ename": "TypeError",
          "evalue": "ignored",
          "traceback": [
            "\u001b[0;31m---------------------------------------------------------------------------\u001b[0m",
            "\u001b[0;31mTypeError\u001b[0m                                 Traceback (most recent call last)",
            "\u001b[0;32m<ipython-input-11-a27d718a63e5>\u001b[0m in \u001b[0;36m<cell line: 3>\u001b[0;34m()\u001b[0m\n\u001b[1;32m      1\u001b[0m \u001b[0;32mfrom\u001b[0m \u001b[0msklearn\u001b[0m\u001b[0;34m.\u001b[0m\u001b[0mmodel_selection\u001b[0m \u001b[0;32mimport\u001b[0m \u001b[0mtrain_test_split\u001b[0m\u001b[0;34m\u001b[0m\u001b[0;34m\u001b[0m\u001b[0m\n\u001b[1;32m      2\u001b[0m \u001b[0;34m\u001b[0m\u001b[0m\n\u001b[0;32m----> 3\u001b[0;31m \u001b[0mfeatures\u001b[0m \u001b[0;34m=\u001b[0m \u001b[0;34m[\u001b[0m\u001b[0;34m'drug_intake_with_symptoms.xlsx'\u001b[0m\u001b[0;34m(\u001b[0m\u001b[0;34m[\u001b[0m\u001b[0;34m'pain'\u001b[0m\u001b[0;34m,\u001b[0m \u001b[0;34m'tremors'\u001b[0m\u001b[0;34m,\u001b[0m \u001b[0;34m'anxiety'\u001b[0m\u001b[0;34m,\u001b[0m \u001b[0;34m'rigidity'\u001b[0m\u001b[0;34m]\u001b[0m\u001b[0;34m)\u001b[0m\u001b[0;34m]\u001b[0m\u001b[0;34m\u001b[0m\u001b[0;34m\u001b[0m\u001b[0m\n\u001b[0m\u001b[1;32m      4\u001b[0m \u001b[0;34m\u001b[0m\u001b[0m\n\u001b[1;32m      5\u001b[0m \u001b[0mX\u001b[0m \u001b[0;34m=\u001b[0m \u001b[0mmerged_data\u001b[0m\u001b[0;34m[\u001b[0m\u001b[0mfeatures\u001b[0m\u001b[0;34m]\u001b[0m\u001b[0;34m\u001b[0m\u001b[0;34m\u001b[0m\u001b[0m\n",
            "\u001b[0;31mTypeError\u001b[0m: 'str' object is not callable"
          ]
        }
      ]
    },
    {
      "cell_type": "code",
      "source": [
        "from sklearn.linear_model import LinearRegression\n",
        "from sklearn.metrics import mean_squared_error, r2_score\n",
        "\n",
        "model = LinearRegression()\n",
        "\n",
        "model.fit(X_train, y_train)\n",
        "\n",
        "\n",
        "y_pred = model.predict(X_test)\n",
        "\n",
        "\n",
        "mse = mean_squared_error(y_test, y_pred)\n",
        "r2 = r2_score(y_test, y_pred)\n",
        "\n",
        "print(\"Mean Squared Error:\", mse)\n",
        "print(\"R^2 Score:\", r2)"
      ],
      "metadata": {
        "id": "qu7ao0ntE1WT"
      },
      "execution_count": null,
      "outputs": []
    },
    {
      "cell_type": "code",
      "source": [
        "import numpy as np\n",
        "import pandas as pd\n",
        "from numpy import math\n",
        "\n",
        "from sklearn.preprocessing import MinMaxScaler\n",
        "from sklearn.model_selection import train_test_split\n",
        "from sklearn.linear_model import  LinearRegression\n",
        "from sklearn.metrics import  r2_score\n",
        "from sklearn.metrics import  mean_squared_error\n",
        "\n",
        "import matplotlib.pyplot as plt"
      ],
      "metadata": {
        "id": "J8YZRSxCWO70"
      },
      "execution_count": null,
      "outputs": []
    },
    {
      "cell_type": "code",
      "source": [
        "dataset = pd.read_csv(\"combined_data.csv\")"
      ],
      "metadata": {
        "id": "h3Th4y0FXgPz"
      },
      "execution_count": null,
      "outputs": []
    },
    {
      "cell_type": "code",
      "source": [
        "len(dataset)"
      ],
      "metadata": {
        "colab": {
          "base_uri": "https://localhost:8080/"
        },
        "id": "PGf1y0oYXoNZ",
        "outputId": "32825c7d-dcbc-4081-ea1c-6be2807ceb43"
      },
      "execution_count": null,
      "outputs": [
        {
          "output_type": "execute_result",
          "data": {
            "text/plain": [
              "672"
            ]
          },
          "metadata": {},
          "execution_count": 3
        }
      ]
    },
    {
      "cell_type": "code",
      "source": [
        "dataset.head()"
      ],
      "metadata": {
        "colab": {
          "base_uri": "https://localhost:8080/",
          "height": 357
        },
        "id": "9NXZvVMCXtSt",
        "outputId": "08991d81-4c4c-4403-b95d-ee6f14332073"
      },
      "execution_count": null,
      "outputs": [
        {
          "output_type": "execute_result",
          "data": {
            "text/plain": [
              "             timestamp  heart_rate  steps  stress_score  awake  deep  light  \\\n",
              "0  2021-11-25 00:00:00         NaN      0          -1.0    NaN   NaN    NaN   \n",
              "1  2021-11-25 00:15:00         NaN      0          -1.0    NaN   NaN    NaN   \n",
              "2  2021-11-25 00:30:00   43.419355      0          -0.4    NaN   NaN    NaN   \n",
              "3  2021-11-25 00:45:00   60.250000      0          12.4    NaN   NaN    NaN   \n",
              "4  2021-11-25 01:00:00   10.600000      0          -1.0    NaN   NaN    NaN   \n",
              "\n",
              "   rem  nonrem_total  total  nonrem_percentage  sleep_efficiency  \\\n",
              "0  NaN           NaN    NaN                NaN               NaN   \n",
              "1  NaN           NaN    NaN                NaN               NaN   \n",
              "2  NaN           NaN    NaN                NaN               NaN   \n",
              "3  NaN           NaN    NaN                NaN               NaN   \n",
              "4  NaN           NaN    NaN                NaN               NaN   \n",
              "\n",
              "   time_from_last_drug_taken  wo_duration  timestamp_hour  \\\n",
              "0                        0.0          NaN               0   \n",
              "1                        0.0          NaN               0   \n",
              "2                        0.0          NaN               0   \n",
              "3                        0.0          NaN               0   \n",
              "4                        0.0          NaN               1   \n",
              "\n",
              "   timestamp_dayofweek  timestamp_hour_sin  timestamp_hour_cos  wearing_off  \\\n",
              "0                    3       -7.627160e-12            1.000000            0   \n",
              "1                    3        6.540313e-02            0.997859            0   \n",
              "2                    3        1.305262e-01            0.991445            0   \n",
              "3                    3        1.950903e-01            0.980785            0   \n",
              "4                    3        2.588190e-01            0.965926            0   \n",
              "\n",
              "    participant  \n",
              "0  participant1  \n",
              "1  participant1  \n",
              "2  participant1  \n",
              "3  participant1  \n",
              "4  participant1  "
            ],
            "text/html": [
              "\n",
              "  <div id=\"df-11ed4778-c45e-4711-96de-9ff62cf8c0ef\">\n",
              "    <div class=\"colab-df-container\">\n",
              "      <div>\n",
              "<style scoped>\n",
              "    .dataframe tbody tr th:only-of-type {\n",
              "        vertical-align: middle;\n",
              "    }\n",
              "\n",
              "    .dataframe tbody tr th {\n",
              "        vertical-align: top;\n",
              "    }\n",
              "\n",
              "    .dataframe thead th {\n",
              "        text-align: right;\n",
              "    }\n",
              "</style>\n",
              "<table border=\"1\" class=\"dataframe\">\n",
              "  <thead>\n",
              "    <tr style=\"text-align: right;\">\n",
              "      <th></th>\n",
              "      <th>timestamp</th>\n",
              "      <th>heart_rate</th>\n",
              "      <th>steps</th>\n",
              "      <th>stress_score</th>\n",
              "      <th>awake</th>\n",
              "      <th>deep</th>\n",
              "      <th>light</th>\n",
              "      <th>rem</th>\n",
              "      <th>nonrem_total</th>\n",
              "      <th>total</th>\n",
              "      <th>nonrem_percentage</th>\n",
              "      <th>sleep_efficiency</th>\n",
              "      <th>time_from_last_drug_taken</th>\n",
              "      <th>wo_duration</th>\n",
              "      <th>timestamp_hour</th>\n",
              "      <th>timestamp_dayofweek</th>\n",
              "      <th>timestamp_hour_sin</th>\n",
              "      <th>timestamp_hour_cos</th>\n",
              "      <th>wearing_off</th>\n",
              "      <th>participant</th>\n",
              "    </tr>\n",
              "  </thead>\n",
              "  <tbody>\n",
              "    <tr>\n",
              "      <th>0</th>\n",
              "      <td>2021-11-25 00:00:00</td>\n",
              "      <td>NaN</td>\n",
              "      <td>0</td>\n",
              "      <td>-1.0</td>\n",
              "      <td>NaN</td>\n",
              "      <td>NaN</td>\n",
              "      <td>NaN</td>\n",
              "      <td>NaN</td>\n",
              "      <td>NaN</td>\n",
              "      <td>NaN</td>\n",
              "      <td>NaN</td>\n",
              "      <td>NaN</td>\n",
              "      <td>0.0</td>\n",
              "      <td>NaN</td>\n",
              "      <td>0</td>\n",
              "      <td>3</td>\n",
              "      <td>-7.627160e-12</td>\n",
              "      <td>1.000000</td>\n",
              "      <td>0</td>\n",
              "      <td>participant1</td>\n",
              "    </tr>\n",
              "    <tr>\n",
              "      <th>1</th>\n",
              "      <td>2021-11-25 00:15:00</td>\n",
              "      <td>NaN</td>\n",
              "      <td>0</td>\n",
              "      <td>-1.0</td>\n",
              "      <td>NaN</td>\n",
              "      <td>NaN</td>\n",
              "      <td>NaN</td>\n",
              "      <td>NaN</td>\n",
              "      <td>NaN</td>\n",
              "      <td>NaN</td>\n",
              "      <td>NaN</td>\n",
              "      <td>NaN</td>\n",
              "      <td>0.0</td>\n",
              "      <td>NaN</td>\n",
              "      <td>0</td>\n",
              "      <td>3</td>\n",
              "      <td>6.540313e-02</td>\n",
              "      <td>0.997859</td>\n",
              "      <td>0</td>\n",
              "      <td>participant1</td>\n",
              "    </tr>\n",
              "    <tr>\n",
              "      <th>2</th>\n",
              "      <td>2021-11-25 00:30:00</td>\n",
              "      <td>43.419355</td>\n",
              "      <td>0</td>\n",
              "      <td>-0.4</td>\n",
              "      <td>NaN</td>\n",
              "      <td>NaN</td>\n",
              "      <td>NaN</td>\n",
              "      <td>NaN</td>\n",
              "      <td>NaN</td>\n",
              "      <td>NaN</td>\n",
              "      <td>NaN</td>\n",
              "      <td>NaN</td>\n",
              "      <td>0.0</td>\n",
              "      <td>NaN</td>\n",
              "      <td>0</td>\n",
              "      <td>3</td>\n",
              "      <td>1.305262e-01</td>\n",
              "      <td>0.991445</td>\n",
              "      <td>0</td>\n",
              "      <td>participant1</td>\n",
              "    </tr>\n",
              "    <tr>\n",
              "      <th>3</th>\n",
              "      <td>2021-11-25 00:45:00</td>\n",
              "      <td>60.250000</td>\n",
              "      <td>0</td>\n",
              "      <td>12.4</td>\n",
              "      <td>NaN</td>\n",
              "      <td>NaN</td>\n",
              "      <td>NaN</td>\n",
              "      <td>NaN</td>\n",
              "      <td>NaN</td>\n",
              "      <td>NaN</td>\n",
              "      <td>NaN</td>\n",
              "      <td>NaN</td>\n",
              "      <td>0.0</td>\n",
              "      <td>NaN</td>\n",
              "      <td>0</td>\n",
              "      <td>3</td>\n",
              "      <td>1.950903e-01</td>\n",
              "      <td>0.980785</td>\n",
              "      <td>0</td>\n",
              "      <td>participant1</td>\n",
              "    </tr>\n",
              "    <tr>\n",
              "      <th>4</th>\n",
              "      <td>2021-11-25 01:00:00</td>\n",
              "      <td>10.600000</td>\n",
              "      <td>0</td>\n",
              "      <td>-1.0</td>\n",
              "      <td>NaN</td>\n",
              "      <td>NaN</td>\n",
              "      <td>NaN</td>\n",
              "      <td>NaN</td>\n",
              "      <td>NaN</td>\n",
              "      <td>NaN</td>\n",
              "      <td>NaN</td>\n",
              "      <td>NaN</td>\n",
              "      <td>0.0</td>\n",
              "      <td>NaN</td>\n",
              "      <td>1</td>\n",
              "      <td>3</td>\n",
              "      <td>2.588190e-01</td>\n",
              "      <td>0.965926</td>\n",
              "      <td>0</td>\n",
              "      <td>participant1</td>\n",
              "    </tr>\n",
              "  </tbody>\n",
              "</table>\n",
              "</div>\n",
              "      <button class=\"colab-df-convert\" onclick=\"convertToInteractive('df-11ed4778-c45e-4711-96de-9ff62cf8c0ef')\"\n",
              "              title=\"Convert this dataframe to an interactive table.\"\n",
              "              style=\"display:none;\">\n",
              "        \n",
              "  <svg xmlns=\"http://www.w3.org/2000/svg\" height=\"24px\"viewBox=\"0 0 24 24\"\n",
              "       width=\"24px\">\n",
              "    <path d=\"M0 0h24v24H0V0z\" fill=\"none\"/>\n",
              "    <path d=\"M18.56 5.44l.94 2.06.94-2.06 2.06-.94-2.06-.94-.94-2.06-.94 2.06-2.06.94zm-11 1L8.5 8.5l.94-2.06 2.06-.94-2.06-.94L8.5 2.5l-.94 2.06-2.06.94zm10 10l.94 2.06.94-2.06 2.06-.94-2.06-.94-.94-2.06-.94 2.06-2.06.94z\"/><path d=\"M17.41 7.96l-1.37-1.37c-.4-.4-.92-.59-1.43-.59-.52 0-1.04.2-1.43.59L10.3 9.45l-7.72 7.72c-.78.78-.78 2.05 0 2.83L4 21.41c.39.39.9.59 1.41.59.51 0 1.02-.2 1.41-.59l7.78-7.78 2.81-2.81c.8-.78.8-2.07 0-2.86zM5.41 20L4 18.59l7.72-7.72 1.47 1.35L5.41 20z\"/>\n",
              "  </svg>\n",
              "      </button>\n",
              "      \n",
              "  <style>\n",
              "    .colab-df-container {\n",
              "      display:flex;\n",
              "      flex-wrap:wrap;\n",
              "      gap: 12px;\n",
              "    }\n",
              "\n",
              "    .colab-df-convert {\n",
              "      background-color: #E8F0FE;\n",
              "      border: none;\n",
              "      border-radius: 50%;\n",
              "      cursor: pointer;\n",
              "      display: none;\n",
              "      fill: #1967D2;\n",
              "      height: 32px;\n",
              "      padding: 0 0 0 0;\n",
              "      width: 32px;\n",
              "    }\n",
              "\n",
              "    .colab-df-convert:hover {\n",
              "      background-color: #E2EBFA;\n",
              "      box-shadow: 0px 1px 2px rgba(60, 64, 67, 0.3), 0px 1px 3px 1px rgba(60, 64, 67, 0.15);\n",
              "      fill: #174EA6;\n",
              "    }\n",
              "\n",
              "    [theme=dark] .colab-df-convert {\n",
              "      background-color: #3B4455;\n",
              "      fill: #D2E3FC;\n",
              "    }\n",
              "\n",
              "    [theme=dark] .colab-df-convert:hover {\n",
              "      background-color: #434B5C;\n",
              "      box-shadow: 0px 1px 3px 1px rgba(0, 0, 0, 0.15);\n",
              "      filter: drop-shadow(0px 1px 2px rgba(0, 0, 0, 0.3));\n",
              "      fill: #FFFFFF;\n",
              "    }\n",
              "  </style>\n",
              "\n",
              "      <script>\n",
              "        const buttonEl =\n",
              "          document.querySelector('#df-11ed4778-c45e-4711-96de-9ff62cf8c0ef button.colab-df-convert');\n",
              "        buttonEl.style.display =\n",
              "          google.colab.kernel.accessAllowed ? 'block' : 'none';\n",
              "\n",
              "        async function convertToInteractive(key) {\n",
              "          const element = document.querySelector('#df-11ed4778-c45e-4711-96de-9ff62cf8c0ef');\n",
              "          const dataTable =\n",
              "            await google.colab.kernel.invokeFunction('convertToInteractive',\n",
              "                                                     [key], {});\n",
              "          if (!dataTable) return;\n",
              "\n",
              "          const docLinkHtml = 'Like what you see? Visit the ' +\n",
              "            '<a target=\"_blank\" href=https://colab.research.google.com/notebooks/data_table.ipynb>data table notebook</a>'\n",
              "            + ' to learn more about interactive tables.';\n",
              "          element.innerHTML = '';\n",
              "          dataTable['output_type'] = 'display_data';\n",
              "          await google.colab.output.renderOutput(dataTable, element);\n",
              "          const docLink = document.createElement('div');\n",
              "          docLink.innerHTML = docLinkHtml;\n",
              "          element.appendChild(docLink);\n",
              "        }\n",
              "      </script>\n",
              "    </div>\n",
              "  </div>\n",
              "  "
            ]
          },
          "metadata": {},
          "execution_count": 4
        }
      ]
    },
    {
      "cell_type": "code",
      "source": [
        "dataset.shape"
      ],
      "metadata": {
        "colab": {
          "base_uri": "https://localhost:8080/"
        },
        "id": "9sE2gWBIX7KV",
        "outputId": "2acdec76-255f-435c-b962-18d4793557d5"
      },
      "execution_count": null,
      "outputs": [
        {
          "output_type": "execute_result",
          "data": {
            "text/plain": [
              "(672, 20)"
            ]
          },
          "metadata": {},
          "execution_count": 5
        }
      ]
    },
    {
      "cell_type": "code",
      "source": [
        "plt.scatter(dataset['time_from_last_drug_taken'], dataset['wearing_off'], alpha=0.5)\n",
        "plt.title('Scatter plot of Wearing Off with Taken Drug')\n",
        "plt.xlabel('time_from_last_drug_taken')\n",
        "plt.ylabel('wearing_off')\n",
        "plt.show()"
      ],
      "metadata": {
        "colab": {
          "base_uri": "https://localhost:8080/",
          "height": 472
        },
        "id": "gINphC9WYDtQ",
        "outputId": "2bb4fa8f-5d7f-40f7-9ec5-6ade421c679e"
      },
      "execution_count": null,
      "outputs": [
        {
          "output_type": "display_data",
          "data": {
            "text/plain": [
              "<Figure size 640x480 with 1 Axes>"
            ],
            "image/png": "[encoded data removed]"
          },
          "metadata": {}
        }
      ]
    }
  ]
}